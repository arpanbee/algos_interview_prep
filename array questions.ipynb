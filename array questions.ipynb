{
 "cells": [
  {
   "cell_type": "markdown",
   "metadata": {},
   "source": [
    "# Anagram check\n",
    "check if two strings are anagrams of each other, ignore spaces and capitalization"
   ]
  },
  {
   "cell_type": "code",
   "execution_count": 3,
   "metadata": {},
   "outputs": [],
   "source": [
    "# cute python way\n",
    "\n",
    "def anagram(string1, string2):\n",
    "    string1 = string1.replace(' ','').lower()\n",
    "    string2 = string2.replace(' ','').lower()\n",
    "    \n",
    "    return sorted(string1) == sorted(string2)"
   ]
  },
  {
   "cell_type": "code",
   "execution_count": 4,
   "metadata": {},
   "outputs": [
    {
     "data": {
      "text/plain": [
       "True"
      ]
     },
     "execution_count": 4,
     "metadata": {},
     "output_type": "execute_result"
    }
   ],
   "source": [
    "anagram('dog','god')"
   ]
  },
  {
   "cell_type": "code",
   "execution_count": 5,
   "metadata": {},
   "outputs": [],
   "source": [
    "# create hash table of character frequency using python dictionary\n",
    "\n",
    "def anagramHash(str1,str2):\n",
    "    \n",
    "    # remove spaces and lower case strings\n",
    "    str1 = str1.replace(' ','').lower()\n",
    "    str2 = str2.replace(' ','').lower()\n",
    "    \n",
    "    # edge case shortcut\n",
    "    if len(str1) != len(str2):\n",
    "        return False\n",
    "    \n",
    "    # create hash for character frequency\n",
    "    charHash = {}\n",
    "    \n",
    "    # populate hash by iterating through first string\n",
    "    for let in str1:\n",
    "        if let in charHash:\n",
    "            charHash[let] += 1\n",
    "        else:\n",
    "            charHash[let] = 1\n",
    "    \n",
    "    # remove hash count for chars while iterating thru second string\n",
    "    for let in str2:\n",
    "        if let in charHash:\n",
    "            charHash[let] -= 1\n",
    "        else:\n",
    "            charHash[let] = 1\n",
    "            \n",
    "    # check that char counts are zero\n",
    "    for i in charHash:\n",
    "        if charHash[i] != 0:\n",
    "            return False\n",
    "    \n",
    "    return True\n",
    "    "
   ]
  },
  {
   "cell_type": "code",
   "execution_count": 6,
   "metadata": {},
   "outputs": [
    {
     "data": {
      "text/plain": [
       "True"
      ]
     },
     "execution_count": 6,
     "metadata": {},
     "output_type": "execute_result"
    }
   ],
   "source": [
    "anagramHash('clint eastwood','old west action')"
   ]
  },
  {
   "cell_type": "code",
   "execution_count": 7,
   "metadata": {},
   "outputs": [
    {
     "data": {
      "text/plain": [
       "False"
      ]
     },
     "execution_count": 7,
     "metadata": {},
     "output_type": "execute_result"
    }
   ],
   "source": [
    "anagramHash('bell', 'bello')"
   ]
  },
  {
   "cell_type": "markdown",
   "metadata": {},
   "source": [
    "# Array Pair Sum\n",
    "Given an integer array and a specific integer value, return all integer pairs that sum up that specific value.  "
   ]
  },
  {
   "cell_type": "code",
   "execution_count": 14,
   "metadata": {},
   "outputs": [],
   "source": [
    "def array_pair_sum(arr,k):\n",
    "    \n",
    "    if len(arr) < 2:\n",
    "        return\n",
    "    \n",
    "    # create sets to track elements \n",
    "    # use set when you need to keep track of elements found\n",
    "    # order doesn't matter.  dictionary order doesn't matter\n",
    "    # but has key/value, also O(1) lookup time like set.  \n",
    "    # use list when order matters and lookup time is O(n)\n",
    "    \n",
    "    seen = set()\n",
    "    output = set()\n",
    "    \n",
    "    # go through the array, and find what element \n",
    "    # is needed to sum up to the specific value k\n",
    "    \n",
    "    for num in arr:\n",
    "        \n",
    "        targetNum = k - num\n",
    "        \n",
    "        if targetNum not in seen: \n",
    "            seen.add(num)\n",
    "            \n",
    "        else:\n",
    "            # a pair of elements are added to output set because\n",
    "            # they sum up to k\n",
    "            output.add( (min(num,targetNum), max(num,targetNum)) )\n",
    "            \n",
    "    print(list(output))\n",
    "    print(len(output))"
   ]
  },
  {
   "cell_type": "code",
   "execution_count": 15,
   "metadata": {},
   "outputs": [
    {
     "name": "stdout",
     "output_type": "stream",
     "text": [
      "[(1, 3), (2, 2)]\n",
      "2\n"
     ]
    }
   ],
   "source": [
    "array_pair_sum([1,2,3,2],4)"
   ]
  },
  {
   "cell_type": "code",
   "execution_count": 16,
   "metadata": {},
   "outputs": [
    {
     "name": "stdout",
     "output_type": "stream",
     "text": [
      "[(4, 6), (5, 5), (2, 8), (-1, 11), (1, 9), (3, 7)]\n",
      "6\n"
     ]
    }
   ],
   "source": [
    "array_pair_sum([1,9,2,8,3,7,4,6,5,5,13,14,11,13,-1],10)"
   ]
  },
  {
   "cell_type": "markdown",
   "metadata": {},
   "source": [
    "# Find Missing Element\n",
    "Given an array of non-negative integers, a second array is formed by shuffling the first array and then removing an element.  Find that missing element."
   ]
  },
  {
   "cell_type": "code",
   "execution_count": 18,
   "metadata": {},
   "outputs": [],
   "source": [
    "# pythonic way \n",
    "# O(NlogN)\n",
    "\n",
    "def find_missing_ele(arr1,arr2):\n",
    "    arr1.sort()\n",
    "    arr2.sort()\n",
    "    \n",
    "    for num1, num2 in zip(arr1,arr2):\n",
    "        # zip returns iterator of tuples from arguments\n",
    "        if num1 != num2:\n",
    "            return num1\n",
    "        \n",
    "    # if none found then return last element of first array\n",
    "    return arr1[-1]        "
   ]
  },
  {
   "cell_type": "code",
   "execution_count": 20,
   "metadata": {},
   "outputs": [
    {
     "data": {
      "text/plain": [
       "5"
      ]
     },
     "execution_count": 20,
     "metadata": {},
     "output_type": "execute_result"
    }
   ],
   "source": [
    "arr1 = [1,2,3,4,5,6,7]\n",
    "arr2 = [3,7,2,1,4,6]\n",
    "find_missing_ele(arr1,arr2)"
   ]
  },
  {
   "cell_type": "code",
   "execution_count": 28,
   "metadata": {},
   "outputs": [
    {
     "ename": "SyntaxError",
     "evalue": "unexpected EOF while parsing (<ipython-input-28-6e91d8b9478c>, line 12)",
     "output_type": "error",
     "traceback": [
      "\u001b[0;36m  File \u001b[0;32m\"<ipython-input-28-6e91d8b9478c>\"\u001b[0;36m, line \u001b[0;32m12\u001b[0m\n\u001b[0;31m    else:\u001b[0m\n\u001b[0m         ^\u001b[0m\n\u001b[0;31mSyntaxError\u001b[0m\u001b[0;31m:\u001b[0m unexpected EOF while parsing\n"
     ]
    }
   ],
   "source": [
    "# create hash of characters in second string and \n",
    "# then go through first string and decrement count\n",
    "# when you find 0 for the count that's the missing element\n",
    "\n",
    "def find_missing_ele2(arr1, arr2):\n",
    "    \n",
    "    intHash = {}\n",
    "    \n",
    "    for num in arr2:\n",
    "        if num in intHash:\n",
    "            intHash[num] += 1\n",
    "        else:\n",
    "            intHash[num] = 1\n",
    "    \n",
    "    for num in arr1:\n",
    "        if num in i"
   ]
  },
  {
   "cell_type": "code",
   "execution_count": null,
   "metadata": {},
   "outputs": [],
   "source": []
  }
 ],
 "metadata": {
  "kernelspec": {
   "display_name": "Python 3",
   "language": "python",
   "name": "python3"
  },
  "language_info": {
   "codemirror_mode": {
    "name": "ipython",
    "version": 3
   },
   "file_extension": ".py",
   "mimetype": "text/x-python",
   "name": "python",
   "nbconvert_exporter": "python",
   "pygments_lexer": "ipython3",
   "version": "3.6.4"
  }
 },
 "nbformat": 4,
 "nbformat_minor": 2
}
