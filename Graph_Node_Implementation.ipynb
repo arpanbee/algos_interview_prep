{
 "cells": [
  {
   "cell_type": "code",
   "execution_count": 2,
   "metadata": {},
   "outputs": [],
   "source": [
    "from enum import Enum\n",
    "\n",
    "# used for monitoring what nodes have been visited for BFS / DFS\n",
    "class State(Enum):\n",
    "    unvisited = 1\n",
    "    visited = 2\n",
    "    visiting = 3"
   ]
  },
  {
   "cell_type": "code",
   "execution_count": 18,
   "metadata": {},
   "outputs": [],
   "source": [
    "from collections import OrderedDict\n",
    "\n",
    "\"\"\"\n",
    "create a node class, instance variable num will be the \n",
    "id of each node, visit_state will be univisted by default,\n",
    "and adjacent instance variable will be an ordered dictionary\n",
    "of neighboring nodes with key = node, and value = weight to \n",
    "that node from the source node\n",
    "\"\"\"\n",
    "\n",
    "class Node:\n",
    "    \n",
    "    def __init__(self,num):\n",
    "        self.num = num\n",
    "        self.visit_state = State.unvisited\n",
    "        # key = node, val = weight\n",
    "        self.adjacent = OrderedDict()\n",
    "        \n",
    "    # special method str will print the id/num of the node    \n",
    "    def __str__(self):\n",
    "        return str(self.num)"
   ]
  },
  {
   "cell_type": "code",
   "execution_count": 19,
   "metadata": {},
   "outputs": [],
   "source": [
    "\"\"\"\n",
    "create graph class, instance variable will just be an ordered\n",
    "dictionary of nodes.  add_node method will create a node object\n",
    "and add it to the ordered dictionary of nodes in the graph object\n",
    "add_edge will create source and/or destination nodes if they \n",
    "don't exist and then update the adjancent ordered dictionary \n",
    "on the source node object with the weight of the edge connecting\n",
    "the source and destination node\n",
    "\"\"\"\n",
    "\n",
    "class Graph:\n",
    "    \n",
    "    def __init__(self):\n",
    "        # key = node id, val = node\n",
    "        self.nodes = OrderedDict()\n",
    "        \n",
    "    def add_node(self, num):\n",
    "        node = Node(num)\n",
    "        self.nodes[num] = node\n",
    "        return node\n",
    "    \n",
    "    def add_edge(self, source, dest, weight=0):\n",
    "        if source not in self.nodes:\n",
    "            self.add_node(source)\n",
    "        if dest not in self.nodes:\n",
    "            self.add_node(dest)\n",
    "        self.nodes[source].adjacent[self.nodes[dest]] = weight"
   ]
  },
  {
   "cell_type": "code",
   "execution_count": 20,
   "metadata": {},
   "outputs": [],
   "source": [
    "g = Graph()\n",
    "g.add_edge(0,1,5)"
   ]
  },
  {
   "cell_type": "code",
   "execution_count": 21,
   "metadata": {},
   "outputs": [
    {
     "data": {
      "text/plain": [
       "OrderedDict([(0, <__main__.Node at 0x10ad80978>),\n",
       "             (1, <__main__.Node at 0x10ad809e8>)])"
      ]
     },
     "execution_count": 21,
     "metadata": {},
     "output_type": "execute_result"
    }
   ],
   "source": [
    "g.nodes"
   ]
  },
  {
   "cell_type": "code",
   "execution_count": 22,
   "metadata": {},
   "outputs": [
    {
     "name": "stdout",
     "output_type": "stream",
     "text": [
      "OrderedDict([(<__main__.Node object at 0x10ad809e8>, 5)])\n"
     ]
    }
   ],
   "source": [
    "print(g.nodes[0].adjacent)"
   ]
  },
  {
   "cell_type": "code",
   "execution_count": 23,
   "metadata": {},
   "outputs": [
    {
     "name": "stdout",
     "output_type": "stream",
     "text": [
      "1\n"
     ]
    }
   ],
   "source": [
    "print(g.nodes[1])"
   ]
  },
  {
   "cell_type": "code",
   "execution_count": null,
   "metadata": {},
   "outputs": [],
   "source": []
  }
 ],
 "metadata": {
  "kernelspec": {
   "display_name": "Python 3",
   "language": "python",
   "name": "python3"
  },
  "language_info": {
   "codemirror_mode": {
    "name": "ipython",
    "version": 3
   },
   "file_extension": ".py",
   "mimetype": "text/x-python",
   "name": "python",
   "nbconvert_exporter": "python",
   "pygments_lexer": "ipython3",
   "version": "3.6.4"
  }
 },
 "nbformat": 4,
 "nbformat_minor": 2
}
