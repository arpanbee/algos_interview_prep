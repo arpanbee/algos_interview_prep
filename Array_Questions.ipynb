{
 "cells": [
  {
   "cell_type": "markdown",
   "metadata": {},
   "source": [
    "# Anagram check\n",
    "check if two strings are anagrams of each other, ignore spaces and capitalization"
   ]
  },
  {
   "cell_type": "code",
   "execution_count": 3,
   "metadata": {},
   "outputs": [],
   "source": [
    "# cute python way\n",
    "\n",
    "def anagram(string1, string2):\n",
    "    string1 = string1.replace(' ','').lower()\n",
    "    string2 = string2.replace(' ','').lower()\n",
    "    \n",
    "    return sorted(string1) == sorted(string2)"
   ]
  },
  {
   "cell_type": "code",
   "execution_count": 4,
   "metadata": {},
   "outputs": [
    {
     "data": {
      "text/plain": [
       "True"
      ]
     },
     "execution_count": 4,
     "metadata": {},
     "output_type": "execute_result"
    }
   ],
   "source": [
    "anagram('dog','god')"
   ]
  },
  {
   "cell_type": "code",
   "execution_count": 5,
   "metadata": {},
   "outputs": [],
   "source": [
    "# create hash table of character frequency using python dictionary\n",
    "\n",
    "def anagramHash(str1,str2):\n",
    "    \n",
    "    # remove spaces and lower case strings\n",
    "    str1 = str1.replace(' ','').lower()\n",
    "    str2 = str2.replace(' ','').lower()\n",
    "    \n",
    "    # edge case shortcut\n",
    "    if len(str1) != len(str2):\n",
    "        return False\n",
    "    \n",
    "    # create hash for character frequency\n",
    "    charHash = {}\n",
    "    \n",
    "    # populate hash by iterating through first string\n",
    "    for let in str1:\n",
    "        if let in charHash:\n",
    "            charHash[let] += 1\n",
    "        else:\n",
    "            charHash[let] = 1\n",
    "    \n",
    "    # remove hash count for chars while iterating thru second string\n",
    "    for let in str2:\n",
    "        if let in charHash:\n",
    "            charHash[let] -= 1\n",
    "        else:\n",
    "            charHash[let] = 1\n",
    "            \n",
    "    # check that char counts are zero\n",
    "    for i in charHash:\n",
    "        if charHash[i] != 0:\n",
    "            return False\n",
    "    \n",
    "    return True\n",
    "    "
   ]
  },
  {
   "cell_type": "code",
   "execution_count": 6,
   "metadata": {},
   "outputs": [
    {
     "data": {
      "text/plain": [
       "True"
      ]
     },
     "execution_count": 6,
     "metadata": {},
     "output_type": "execute_result"
    }
   ],
   "source": [
    "anagramHash('clint eastwood','old west action')"
   ]
  },
  {
   "cell_type": "code",
   "execution_count": 7,
   "metadata": {},
   "outputs": [
    {
     "data": {
      "text/plain": [
       "False"
      ]
     },
     "execution_count": 7,
     "metadata": {},
     "output_type": "execute_result"
    }
   ],
   "source": [
    "anagramHash('bell', 'bello')"
   ]
  },
  {
   "cell_type": "markdown",
   "metadata": {},
   "source": [
    "# Array Pair Sum\n",
    "Given an integer array and a specific integer value, return all integer pairs that sum up that specific value.  "
   ]
  },
  {
   "cell_type": "code",
   "execution_count": 14,
   "metadata": {},
   "outputs": [],
   "source": [
    "def array_pair_sum(arr,k):\n",
    "    \n",
    "    if len(arr) < 2:\n",
    "        return\n",
    "    \n",
    "    # create sets to track elements \n",
    "    # use set when you need to keep track of elements found\n",
    "    # order doesn't matter.  dictionary order doesn't matter\n",
    "    # but has key/value, also O(1) lookup time like set.  \n",
    "    # use list when order matters and lookup time is O(n)\n",
    "    \n",
    "    seen = set()\n",
    "    output = set()\n",
    "    \n",
    "    # go through the array, and find what element \n",
    "    # is needed to sum up to the specific value k\n",
    "    \n",
    "    for num in arr:\n",
    "        \n",
    "        targetNum = k - num\n",
    "        \n",
    "        if targetNum not in seen: \n",
    "            seen.add(num)\n",
    "            \n",
    "        else:\n",
    "            # a pair of elements are added to output set because\n",
    "            # they sum up to k\n",
    "            output.add( (min(num,targetNum), max(num,targetNum)) )\n",
    "            \n",
    "    print(list(output))\n",
    "    print(len(output))"
   ]
  },
  {
   "cell_type": "code",
   "execution_count": 15,
   "metadata": {},
   "outputs": [
    {
     "name": "stdout",
     "output_type": "stream",
     "text": [
      "[(1, 3), (2, 2)]\n",
      "2\n"
     ]
    }
   ],
   "source": [
    "array_pair_sum([1,2,3,2],4)"
   ]
  },
  {
   "cell_type": "code",
   "execution_count": 16,
   "metadata": {},
   "outputs": [
    {
     "name": "stdout",
     "output_type": "stream",
     "text": [
      "[(4, 6), (5, 5), (2, 8), (-1, 11), (1, 9), (3, 7)]\n",
      "6\n"
     ]
    }
   ],
   "source": [
    "array_pair_sum([1,9,2,8,3,7,4,6,5,5,13,14,11,13,-1],10)"
   ]
  },
  {
   "cell_type": "markdown",
   "metadata": {},
   "source": [
    "# Find Missing Element\n",
    "Given an array of non-negative integers, a second array is formed by shuffling the first array and then removing an element.  Find that missing element."
   ]
  },
  {
   "cell_type": "code",
   "execution_count": 18,
   "metadata": {},
   "outputs": [],
   "source": [
    "# pythonic way \n",
    "# O(NlogN)\n",
    "\n",
    "def find_missing_ele(arr1,arr2):\n",
    "    arr1.sort()\n",
    "    arr2.sort()\n",
    "    \n",
    "    for num1, num2 in zip(arr1,arr2):\n",
    "        # zip returns iterator of tuples from arguments\n",
    "        if num1 != num2:\n",
    "            return num1\n",
    "        \n",
    "    # if none found then return last element of first array\n",
    "    return arr1[-1]        "
   ]
  },
  {
   "cell_type": "code",
   "execution_count": 20,
   "metadata": {},
   "outputs": [
    {
     "data": {
      "text/plain": [
       "5"
      ]
     },
     "execution_count": 20,
     "metadata": {},
     "output_type": "execute_result"
    }
   ],
   "source": [
    "arr1 = [1,2,3,4,5,6,7]\n",
    "arr2 = [3,7,2,1,4,6]\n",
    "find_missing_ele(arr1,arr2)"
   ]
  },
  {
   "cell_type": "code",
   "execution_count": 29,
   "metadata": {},
   "outputs": [],
   "source": [
    "# create hash of characters in second string and \n",
    "# then go through first string and decrement count\n",
    "# when you find 0 for the count that's the missing element\n",
    "\n",
    "def find_missing_ele2(arr1, arr2):\n",
    "    \n",
    "    intHash = {}\n",
    "    \n",
    "    for num in arr2:\n",
    "        if num in intHash:\n",
    "            intHash[num] += 1\n",
    "        else:\n",
    "            intHash[num] = 1\n",
    "    \n",
    "    for num in arr1:\n",
    "        if num not in intHash:\n",
    "            return num\n",
    "        if intHash[num] == 0:\n",
    "            return num\n",
    "        else:\n",
    "            intHash[num] -= 1\n",
    "            "
   ]
  },
  {
   "cell_type": "code",
   "execution_count": 33,
   "metadata": {},
   "outputs": [
    {
     "data": {
      "text/plain": [
       "7"
      ]
     },
     "execution_count": 33,
     "metadata": {},
     "output_type": "execute_result"
    }
   ],
   "source": [
    "arr1 = [5,5,7,9]\n",
    "arr2 = [5,5,9]\n",
    "find_missing_ele2(arr1,arr2)"
   ]
  },
  {
   "cell_type": "markdown",
   "metadata": {},
   "source": [
    "# Find Largest Continuous Sum\n",
    "Given array of integers (posititve and negative), find the largest continuous sum of integers and output the indicies of the array where the series starts and ends"
   ]
  },
  {
   "cell_type": "code",
   "execution_count": 177,
   "metadata": {},
   "outputs": [],
   "source": [
    "def largest_cont_sum(arr):\n",
    "    \n",
    "    # check to see if array is empty\n",
    "    if len(arr) == 0:\n",
    "        return 0\n",
    "    \n",
    "    # start the max and current sum at the first element\n",
    "    max_sum = current_sum = arr[0]\n",
    "    \n",
    "    # set start index at 0\n",
    "    startIndex = 0\n",
    "    endIndex = 0\n",
    "    counter = 0\n",
    "    \n",
    "    # for every element in array except first element\n",
    "    for num in arr[1:]:  # start at index one and go to end\n",
    "        \n",
    "        # increment counter to find index of continous series with\n",
    "        # max sum\n",
    "        counter += 1      \n",
    "        \n",
    "        # set current sum as higher of the two\n",
    "        current_sum = max(current_sum+num, num)\n",
    "        \n",
    "        if current_sum > max_sum:\n",
    "            endIndex = counter\n",
    "\n",
    "        if num > max_sum and num == current_sum:\n",
    "            startIndex = counter\n",
    "        \n",
    "        # set max as the higher of current sum and the current max\n",
    "        max_sum = max(current_sum, max_sum)\n",
    "    \n",
    "    return max_sum, startIndex, endIndex\n",
    "\n"
   ]
  },
  {
   "cell_type": "code",
   "execution_count": 178,
   "metadata": {},
   "outputs": [
    {
     "data": {
      "text/plain": [
       "(75, 1, 6)"
      ]
     },
     "execution_count": 178,
     "metadata": {},
     "output_type": "execute_result"
    }
   ],
   "source": [
    "largest_cont_sum([-110,2,-1,50,4,10,10,-10,-1])"
   ]
  },
  {
   "cell_type": "code",
   "execution_count": 179,
   "metadata": {},
   "outputs": [
    {
     "data": {
      "text/plain": [
       "(3, 3, 3)"
      ]
     },
     "execution_count": 179,
     "metadata": {},
     "output_type": "execute_result"
    }
   ],
   "source": [
    "largest_cont_sum([1,-2,-1,3,-30,-30])"
   ]
  },
  {
   "cell_type": "code",
   "execution_count": 180,
   "metadata": {},
   "outputs": [
    {
     "data": {
      "text/plain": [
       "(1, 1, 1)"
      ]
     },
     "execution_count": 180,
     "metadata": {},
     "output_type": "execute_result"
    }
   ],
   "source": [
    "largest_cont_sum([-1, 1])"
   ]
  },
  {
   "cell_type": "markdown",
   "metadata": {},
   "source": [
    "# Sentence Reversal\n",
    "Given a string of words, reverse all the words."
   ]
  },
  {
   "cell_type": "code",
   "execution_count": 182,
   "metadata": {},
   "outputs": [],
   "source": [
    "# pythonic way\n",
    "def rev_word1(s):\n",
    "    return \" \".join(reversed(s.split()))\n",
    "    \n",
    "def rev_word2(s):\n",
    "    return \" \".join(s.split()[::-1])\n"
   ]
  },
  {
   "cell_type": "code",
   "execution_count": 183,
   "metadata": {},
   "outputs": [
    {
     "data": {
      "text/plain": [
       "'go? to ready you are john, hi'"
      ]
     },
     "execution_count": 183,
     "metadata": {},
     "output_type": "execute_result"
    }
   ],
   "source": [
    "rev_word1('hi john, are you ready to go?')"
   ]
  },
  {
   "cell_type": "code",
   "execution_count": 184,
   "metadata": {},
   "outputs": [
    {
     "data": {
      "text/plain": [
       "'hi john, are you ready to go?'"
      ]
     },
     "execution_count": 184,
     "metadata": {},
     "output_type": "execute_result"
    }
   ],
   "source": [
    "rev_word2('go? to ready you are john, hi')"
   ]
  },
  {
   "cell_type": "code",
   "execution_count": 227,
   "metadata": {},
   "outputs": [],
   "source": [
    "# find words in string, push them into stack, pop them out \n",
    "# reverse. solution assumes single space separating words in s\n",
    "\n",
    "def rev_word3(s):\n",
    "    word_stack = []\n",
    "    word_stack_rev = []\n",
    "    word = \"\"\n",
    "    ctr = 0\n",
    "    for char in s:\n",
    "        if char is not \" \":\n",
    "            word += char      \n",
    "        else:\n",
    "            word_stack.append(word)\n",
    "            word = \"\"\n",
    "        ctr += 1\n",
    "        # print('the ctr is ', ctr)\n",
    "        if ctr == len(s):\n",
    "            word_stack.append(word)  \n",
    "    \n",
    "    return \" \".join(reversed(word_stack))    "
   ]
  },
  {
   "cell_type": "code",
   "execution_count": 228,
   "metadata": {},
   "outputs": [
    {
     "data": {
      "text/plain": [
       "'you are how John Hello'"
      ]
     },
     "execution_count": 228,
     "metadata": {},
     "output_type": "execute_result"
    }
   ],
   "source": [
    "rev_word3('Hello John how are you')"
   ]
  },
  {
   "cell_type": "code",
   "execution_count": 252,
   "metadata": {},
   "outputs": [],
   "source": [
    "# find words by looking for space in string\n",
    "# this will handle case for multiple spaces in string\n",
    "\n",
    "def rev_word4(s):\n",
    "    words = []\n",
    "    idx = 0\n",
    "    \n",
    "    while idx < len(s):\n",
    "        if s[idx] is not \" \":\n",
    "            \n",
    "            # the word starts at this idx\n",
    "            word_start = idx\n",
    "            \n",
    "            # iterate through until next space is found\n",
    "            while idx < len(s) and s[idx] is not \" \":\n",
    "                idx += 1\n",
    "                \n",
    "            # once space is hit, add word\n",
    "            words.append(s[word_start:idx])\n",
    "            \n",
    "        idx += 1\n",
    "        \n",
    "    return \" \".join(reversed(words))"
   ]
  },
  {
   "cell_type": "code",
   "execution_count": 254,
   "metadata": {},
   "outputs": [
    {
     "data": {
      "text/plain": [
       "'you are how John Hello'"
      ]
     },
     "execution_count": 254,
     "metadata": {},
     "output_type": "execute_result"
    }
   ],
   "source": [
    "rev_word4('Hello   John     how      are you')"
   ]
  },
  {
   "cell_type": "markdown",
   "metadata": {},
   "source": [
    "# String Compression\n",
    "Given a string like 'AABBBCDDEEE' convert it to 'A2B3C1D2E2'.  should be case sensitive and can compress 2 and 1 frequency character."
   ]
  },
  {
   "cell_type": "code",
   "execution_count": 278,
   "metadata": {},
   "outputs": [],
   "source": [
    "def compress(s):\n",
    "    \n",
    "    compressed_string = \"\"\n",
    "    charlast = s[0]\n",
    "    count = 1\n",
    "    idx = 0\n",
    "    \n",
    "    for char in s[1:]:\n",
    "        idx += 1\n",
    "        if char == charlast:\n",
    "            count += 1\n",
    "            \n",
    "            # add char if its the last one in the string\n",
    "            if idx == len(s) - 1:\n",
    "                compressed_string = compressed_string \\\n",
    "                + charlast + str(count)                \n",
    "        else:\n",
    "            compressed_string = compressed_string \\\n",
    "            + charlast + str(count)\n",
    "            charlast = char\n",
    "            count = 1\n",
    "            \n",
    "    return compressed_string"
   ]
  },
  {
   "cell_type": "code",
   "execution_count": 279,
   "metadata": {},
   "outputs": [
    {
     "data": {
      "text/plain": [
       "'A5B4C4'"
      ]
     },
     "execution_count": 279,
     "metadata": {},
     "output_type": "execute_result"
    }
   ],
   "source": [
    "compress('AAAAABBBBCCCC')"
   ]
  },
  {
   "cell_type": "code",
   "execution_count": 280,
   "metadata": {},
   "outputs": [
    {
     "data": {
      "text/plain": [
       "'A3B1C2D5'"
      ]
     },
     "execution_count": 280,
     "metadata": {},
     "output_type": "execute_result"
    }
   ],
   "source": [
    "compress('AAABCCDDDDD')"
   ]
  },
  {
   "cell_type": "markdown",
   "metadata": {},
   "source": [
    "# Unique Characters in String\n",
    "Given a string determine if all the characters are unique or not.  For example, 'aabcde' should return False, and 'abcde' should return True."
   ]
  },
  {
   "cell_type": "code",
   "execution_count": 281,
   "metadata": {},
   "outputs": [],
   "source": [
    "# pythonic way\n",
    "def unique_char(s):\n",
    "    return len(set(s)) == len(s)"
   ]
  },
  {
   "cell_type": "code",
   "execution_count": 283,
   "metadata": {},
   "outputs": [],
   "source": [
    "# use a set to keep track of chars that have been seen\n",
    "# iterate through all the chars and return false if \n",
    "# the char is already in the set.  once whole string has \n",
    "# been scanned and no duplicates found, return true\n",
    "\n",
    "def unique_char2(s):\n",
    "    chars = set()\n",
    "    for char in s:\n",
    "        if char in chars:\n",
    "            return False\n",
    "        else:\n",
    "            chars.add(char)\n",
    "    return True"
   ]
  },
  {
   "cell_type": "code",
   "execution_count": 284,
   "metadata": {},
   "outputs": [
    {
     "data": {
      "text/plain": [
       "False"
      ]
     },
     "execution_count": 284,
     "metadata": {},
     "output_type": "execute_result"
    }
   ],
   "source": [
    "unique_char('aaab')"
   ]
  },
  {
   "cell_type": "code",
   "execution_count": 285,
   "metadata": {},
   "outputs": [
    {
     "data": {
      "text/plain": [
       "True"
      ]
     },
     "execution_count": 285,
     "metadata": {},
     "output_type": "execute_result"
    }
   ],
   "source": [
    "unique_char('abcopx')"
   ]
  },
  {
   "cell_type": "code",
   "execution_count": 288,
   "metadata": {},
   "outputs": [
    {
     "data": {
      "text/plain": [
       "True"
      ]
     },
     "execution_count": 288,
     "metadata": {},
     "output_type": "execute_result"
    }
   ],
   "source": [
    "unique_char2('abcde')"
   ]
  },
  {
   "cell_type": "code",
   "execution_count": 287,
   "metadata": {},
   "outputs": [
    {
     "data": {
      "text/plain": [
       "False"
      ]
     },
     "execution_count": 287,
     "metadata": {},
     "output_type": "execute_result"
    }
   ],
   "source": [
    "unique_char2('aquopu')"
   ]
  },
  {
   "cell_type": "code",
   "execution_count": null,
   "metadata": {},
   "outputs": [],
   "source": []
  }
 ],
 "metadata": {
  "kernelspec": {
   "display_name": "Python 3",
   "language": "python",
   "name": "python3"
  },
  "language_info": {
   "codemirror_mode": {
    "name": "ipython",
    "version": 3
   },
   "file_extension": ".py",
   "mimetype": "text/x-python",
   "name": "python",
   "nbconvert_exporter": "python",
   "pygments_lexer": "ipython3",
   "version": "3.6.4"
  }
 },
 "nbformat": 4,
 "nbformat_minor": 2
}
