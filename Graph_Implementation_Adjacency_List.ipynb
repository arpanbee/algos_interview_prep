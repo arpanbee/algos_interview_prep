{
 "cells": [
  {
   "cell_type": "markdown",
   "metadata": {},
   "source": [
    "# Graph as an adjacency list\n",
    "Two classes Graph and Vertex.  Graph will contain all verticies.  Each vertex uses a dictionary to keep track of neighboring verticies and the weight of the edge connecting them.  "
   ]
  },
  {
   "cell_type": "code",
   "execution_count": 2,
   "metadata": {},
   "outputs": [],
   "source": [
    "class Vertex:\n",
    "    \n",
    "    # upon initialization of vertex object, set id to the key\n",
    "    # and createa connectedTo dictionary to store connections\n",
    "    # to neighboring verticies\n",
    "    def __init__(self,key):\n",
    "        self.id = key\n",
    "        self.connectedTo = {}\n",
    "    \n",
    "    # function adds a neighbor to the vertex object by adding\n",
    "    # an entry to the connectedTo dictionary, default weight is 0\n",
    "    # if no weight is passed in\n",
    "    def addNeighbor(self, nbr, weight=0):\n",
    "        self.connectedTo[nbr] = weight\n",
    "        \n",
    "    # defines str method for the object.  print out\n",
    "    # id of the vertex and all the connected neighboring\n",
    "    # vertex ids\n",
    "    def __str__(self):\n",
    "        return str(self.id) + ' connected to: ' + \\\n",
    "        str([x.id for x in self.connectedTo])\n",
    "        \n",
    "    # returns all the neighboring vertex connections by \n",
    "    # returning all the keys in the connectedTo dictionary\n",
    "    def getConnections(self):\n",
    "        return self.connectedTo.keys()\n",
    "    \n",
    "    # returns the id of the vertex object\n",
    "    def getId(self):\n",
    "        return self.id\n",
    "    \n",
    "    # returns the weight of the connection to the neighboring vertex\n",
    "    def getWeight(self, nbr):\n",
    "        return self.connectedTo[nbr]"
   ]
  },
  {
   "cell_type": "code",
   "execution_count": 4,
   "metadata": {},
   "outputs": [],
   "source": [
    "class Graph:\n",
    "    \n",
    "    # intialize graph object with a dictionary of \n",
    "    # containing all verticies in the graph and a \n",
    "    # variable storing number of verticies\n",
    "    def __init__(self):\n",
    "        self.vertList = {}\n",
    "        self.numVertices = 0\n",
    "    \n",
    "    # method will take a key and create a new vertex object\n",
    "    # add that new vertex to the vertList dictionary\n",
    "    # and increment the numVertices count\n",
    "    def addVertex(self, key):\n",
    "        self.numVertices += 1\n",
    "        newVertex = Vertex(key)\n",
    "        self.vertList[key] = newVertex\n",
    "        return newVertex\n",
    "    \n",
    "    # method will take a key and try to find the vertex object\n",
    "    # in the vertList dictionary, if none is found, return None\n",
    "    def getVertex(self, n):\n",
    "        if n in self.vertList:\n",
    "            return self.vertList[n]\n",
    "        else:\n",
    "            return None\n",
    "    \n",
    "    # contains method looks for key in vertList, returns\n",
    "    # the vertex object in vertList if it is in there\n",
    "    def __contains__(self, n):\n",
    "        return n in self.vertList\n",
    "    \n",
    "    # method takes in fromVert and toVert and optional cost\n",
    "    # of edge between the two vertices.  checks to see if fromVert\n",
    "    # and toVert exist in graph, if not create them.  finally\n",
    "    # use addNeighbor method on fromVert object and add toVert\n",
    "    # to it using cost as the weight\n",
    "    def addEdge(self, fromVert, toVert, cost=0):\n",
    "        if fromVert not in self.vertList:\n",
    "            nv = self.addVertex(fromVert)\n",
    "        if toVert not in self.vertList:\n",
    "            nv = self.addVertex(toVert)\n",
    "        self.vertList[fromVert].addNeighbor(self.vertList[toVert], cost)\n",
    "        \n",
    "    # method returns all the vertex objects stored in vertList dictionary    \n",
    "    def getVertices(self):\n",
    "        return self.vertList.keys()\n",
    "\n",
    "    # iterates through vertList dictionary, popping out values\n",
    "    def __iter__(self):\n",
    "        return iter(self.vertList.values())"
   ]
  },
  {
   "cell_type": "code",
   "execution_count": 5,
   "metadata": {},
   "outputs": [],
   "source": [
    "g = Graph()\n",
    "for i in range(6):\n",
    "    g.addVertex(i)"
   ]
  },
  {
   "cell_type": "code",
   "execution_count": 16,
   "metadata": {},
   "outputs": [
    {
     "name": "stdout",
     "output_type": "stream",
     "text": [
      "1 connected to: [3]\n"
     ]
    }
   ],
   "source": [
    "if 1 in g.vertList:  #contains method\n",
    "    print(g.vertList[1])"
   ]
  },
  {
   "cell_type": "code",
   "execution_count": 13,
   "metadata": {},
   "outputs": [],
   "source": [
    "g.addEdge(1,3,2)"
   ]
  },
  {
   "cell_type": "code",
   "execution_count": 17,
   "metadata": {},
   "outputs": [
    {
     "name": "stdout",
     "output_type": "stream",
     "text": [
      "0 connected to: []\n",
      "dict_keys([])\n",
      "\n",
      "\n",
      "1 connected to: [3]\n",
      "dict_keys([<__main__.Vertex object at 0x10b299390>])\n",
      "\n",
      "\n",
      "2 connected to: []\n",
      "dict_keys([])\n",
      "\n",
      "\n",
      "3 connected to: []\n",
      "dict_keys([])\n",
      "\n",
      "\n",
      "4 connected to: []\n",
      "dict_keys([])\n",
      "\n",
      "\n",
      "5 connected to: []\n",
      "dict_keys([])\n",
      "\n",
      "\n"
     ]
    }
   ],
   "source": [
    "for vertex in g: #iter method\n",
    "    print(vertex)\n",
    "    print(vertex.getConnections())\n",
    "    print('\\n')"
   ]
  },
  {
   "cell_type": "code",
   "execution_count": null,
   "metadata": {},
   "outputs": [],
   "source": []
  },
  {
   "cell_type": "code",
   "execution_count": null,
   "metadata": {},
   "outputs": [],
   "source": []
  }
 ],
 "metadata": {
  "kernelspec": {
   "display_name": "Python 3",
   "language": "python",
   "name": "python3"
  },
  "language_info": {
   "codemirror_mode": {
    "name": "ipython",
    "version": 3
   },
   "file_extension": ".py",
   "mimetype": "text/x-python",
   "name": "python",
   "nbconvert_exporter": "python",
   "pygments_lexer": "ipython3",
   "version": "3.6.4"
  }
 },
 "nbformat": 4,
 "nbformat_minor": 2
}
